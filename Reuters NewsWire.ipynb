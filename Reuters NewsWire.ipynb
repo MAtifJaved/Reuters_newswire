{
 "cells": [
  {
   "cell_type": "code",
   "execution_count": 26,
   "metadata": {},
   "outputs": [],
   "source": [
    "import numpy as np\n",
    "import pandas as pd"
   ]
  },
  {
   "cell_type": "code",
   "execution_count": 2,
   "metadata": {},
   "outputs": [],
   "source": [
    "from tensorflow.keras.datasets import reuters"
   ]
  },
  {
   "cell_type": "code",
   "execution_count": 3,
   "metadata": {},
   "outputs": [
    {
     "name": "stderr",
     "output_type": "stream",
     "text": [
      "C:\\Users\\Dell\\AppData\\Roaming\\Python\\Python37\\site-packages\\tensorflow\\python\\keras\\datasets\\reuters.py:148: VisibleDeprecationWarning: Creating an ndarray from ragged nested sequences (which is a list-or-tuple of lists-or-tuples-or ndarrays with different lengths or shapes) is deprecated. If you meant to do this, you must specify 'dtype=object' when creating the ndarray\n",
      "  x_train, y_train = np.array(xs[:idx]), np.array(labels[:idx])\n",
      "C:\\Users\\Dell\\AppData\\Roaming\\Python\\Python37\\site-packages\\tensorflow\\python\\keras\\datasets\\reuters.py:149: VisibleDeprecationWarning: Creating an ndarray from ragged nested sequences (which is a list-or-tuple of lists-or-tuples-or ndarrays with different lengths or shapes) is deprecated. If you meant to do this, you must specify 'dtype=object' when creating the ndarray\n",
      "  x_test, y_test = np.array(xs[idx:]), np.array(labels[idx:])\n"
     ]
    }
   ],
   "source": [
    "(train_data, train_labels), (test_data, test_labels) = reuters.load_data(num_words=10000)"
   ]
  },
  {
   "cell_type": "markdown",
   "metadata": {},
   "source": [
    "# Exploring Data"
   ]
  },
  {
   "cell_type": "code",
   "execution_count": 4,
   "metadata": {},
   "outputs": [
    {
     "name": "stdout",
     "output_type": "stream",
     "text": [
      "8982\n",
      "[1, 2, 2, 8, 43, 10, 447, 5, 25, 207, 270, 5, 3095, 111, 16, 369, 186, 90, 67, 7, 89, 5, 19, 102, 6, 19, 124, 15, 90, 67, 84, 22, 482, 26, 7, 48, 4, 49, 8, 864, 39, 209, 154, 6, 151, 6, 83, 11, 15, 22, 155, 11, 15, 7, 48, 9, 4579, 1005, 504, 6, 258, 6, 272, 11, 15, 22, 134, 44, 11, 15, 16, 8, 197, 1245, 90, 67, 52, 29, 209, 30, 32, 132, 6, 109, 15, 17, 12]\n"
     ]
    },
    {
     "data": {
      "text/plain": [
       "105"
      ]
     },
     "execution_count": 4,
     "metadata": {},
     "output_type": "execute_result"
    }
   ],
   "source": [
    "print(len(train_data))\n",
    "print(train_data[0])\n",
    "len(train_data[8981])"
   ]
  },
  {
   "cell_type": "code",
   "execution_count": 5,
   "metadata": {},
   "outputs": [
    {
     "name": "stdout",
     "output_type": "stream",
     "text": [
      "8982\n"
     ]
    },
    {
     "data": {
      "text/plain": [
       "array([ 3,  4,  3, ..., 25,  3, 25], dtype=int64)"
      ]
     },
     "execution_count": 5,
     "metadata": {},
     "output_type": "execute_result"
    }
   ],
   "source": [
    "print(len(train_labels))\n",
    "train_labels"
   ]
  },
  {
   "cell_type": "markdown",
   "metadata": {},
   "source": [
    "# Decoding News Wire Back to text"
   ]
  },
  {
   "cell_type": "code",
   "execution_count": 6,
   "metadata": {},
   "outputs": [
    {
     "data": {
      "text/plain": [
       "30979"
      ]
     },
     "execution_count": 6,
     "metadata": {},
     "output_type": "execute_result"
    }
   ],
   "source": [
    "word_index = reuters.get_word_index()\n",
    "#print(word_index)\n",
    "len(word_index.keys())"
   ]
  },
  {
   "cell_type": "code",
   "execution_count": 7,
   "metadata": {},
   "outputs": [
    {
     "data": {
      "text/plain": [
       "30979"
      ]
     },
     "execution_count": 7,
     "metadata": {},
     "output_type": "execute_result"
    }
   ],
   "source": [
    "#print(word_index.items())\n",
    "reverse_word_index = dict([(value,key) for (key,value) in word_index.items()])\n",
    "#reverse_word_index\n",
    "len(word_index.items())"
   ]
  },
  {
   "cell_type": "code",
   "execution_count": 8,
   "metadata": {},
   "outputs": [
    {
     "data": {
      "text/plain": [
       "\"? the farmers home administration the u s agriculture department's farm lending arm could lose about seven billion dlrs in outstanding principal on its severely ? borrowers or about one fourth of its farm loan portfolio the general accounting office gao said in remarks prepared for delivery to the senate agriculture committee brian crowley senior associate director of gao also said that a preliminary analysis of proposed changes in ? financial eligibility standards indicated as many as one half of ? borrowers who received new loans from the agency in 1986 would be ? under the proposed system the agency has proposed evaluating ? credit using a variety of financial ratios instead of relying solely on ? ability senate agriculture committee chairman patrick leahy d vt ? the proposed eligibility changes telling ? administrator ? clark at a hearing that they would mark a dramatic shift in the agency's purpose away from being farmers' lender of last resort toward becoming a big city bank but clark defended the new regulations saying the agency had a responsibility to ? its 70 billion dlr loan portfolio in a ? yet ? manner crowley of gao ? ? arm said the proposed credit ? system attempted to ensure that ? would make loans only to borrowers who had a reasonable change of repaying their debt reuter 3\""
      ]
     },
     "execution_count": 8,
     "metadata": {},
     "output_type": "execute_result"
    }
   ],
   "source": [
    "decoded_newswire = ' '.join([reverse_word_index.get(i-3,'?') for i in train_data[3]]) \n",
    "decoded_newswire"
   ]
  },
  {
   "cell_type": "code",
   "execution_count": 9,
   "metadata": {},
   "outputs": [
    {
     "data": {
      "text/plain": [
       "4"
      ]
     },
     "execution_count": 9,
     "metadata": {},
     "output_type": "execute_result"
    }
   ],
   "source": [
    "train_labels[3]"
   ]
  },
  {
   "cell_type": "markdown",
   "metadata": {},
   "source": [
    "# Encoding the Data"
   ]
  },
  {
   "cell_type": "code",
   "execution_count": 10,
   "metadata": {},
   "outputs": [],
   "source": [
    "def vectorize_sequences(sequences, dimension=10000):\n",
    "    results = np.zeros((len(sequences),dimension))\n",
    "    for i,sequence in enumerate(sequences):\n",
    "        results[i,sequence] = 1\n",
    "    return results"
   ]
  },
  {
   "cell_type": "code",
   "execution_count": 11,
   "metadata": {},
   "outputs": [
    {
     "name": "stdout",
     "output_type": "stream",
     "text": [
      "training Data after one hot encoding: [[0. 1. 1. ... 0. 0. 0.]\n",
      " [0. 1. 1. ... 0. 0. 0.]\n",
      " [0. 1. 1. ... 0. 0. 0.]\n",
      " ...\n",
      " [0. 1. 1. ... 0. 0. 0.]\n",
      " [0. 1. 1. ... 0. 0. 0.]\n",
      " [0. 1. 1. ... 0. 0. 0.]]\n",
      "testing Data after one hot encoding: [[0. 1. 1. ... 0. 0. 0.]\n",
      " [0. 1. 1. ... 0. 0. 0.]\n",
      " [0. 1. 1. ... 0. 0. 0.]\n",
      " ...\n",
      " [0. 1. 0. ... 0. 0. 0.]\n",
      " [0. 1. 1. ... 0. 0. 0.]\n",
      " [0. 1. 1. ... 0. 0. 0.]]\n"
     ]
    }
   ],
   "source": [
    "x_train=vectorize_sequences(train_data)\n",
    "x_test=vectorize_sequences(test_data)\n",
    "print(\"training Data after one hot encoding:\",x_train)\n",
    "print(\"testing Data after one hot encoding:\",x_test)"
   ]
  },
  {
   "cell_type": "code",
   "execution_count": 12,
   "metadata": {},
   "outputs": [],
   "source": [
    "def to_one_hot(labels, dimension=46):\n",
    "    results = np.zeros((len(labels),dimension))\n",
    "    for i,label in enumerate(labels):\n",
    "        results[i,label] = 1\n",
    "    return results"
   ]
  },
  {
   "cell_type": "code",
   "execution_count": 21,
   "metadata": {},
   "outputs": [
    {
     "name": "stdout",
     "output_type": "stream",
     "text": [
      "3\n"
     ]
    },
    {
     "data": {
      "text/plain": [
       "array([0., 0., 0., 1., 0., 0., 0., 0., 0., 0., 0., 0., 0., 0., 0., 0., 0.,\n",
       "       0., 0., 0., 0., 0., 0., 0., 0., 0., 0., 0., 0., 0., 0., 0., 0., 0.,\n",
       "       0., 0., 0., 0., 0., 0., 0., 0., 0., 0., 0., 0.])"
      ]
     },
     "execution_count": 21,
     "metadata": {},
     "output_type": "execute_result"
    }
   ],
   "source": [
    "one_hot_train_labels=to_one_hot(train_labels)\n",
    "one_hot_test_labels=to_one_hot(test_labels)\n",
    "print(train_labels[0])\n",
    "#Firstly Train labels[0] was 3 , and after one hot encoding train_label[0] looks like as follows \n",
    "#len(one_hot_train_labels[0])\n",
    "one_hot_train_labels[0]"
   ]
  },
  {
   "cell_type": "markdown",
   "metadata": {},
   "source": [
    "# Model Defination"
   ]
  },
  {
   "cell_type": "code",
   "execution_count": 35,
   "metadata": {},
   "outputs": [],
   "source": [
    "from tensorflow.keras import models\n",
    "from tensorflow.keras import layers\n",
    "model = models.Sequential ()\n",
    "model.add(layers.Dense(64, activation = 'relu', input_shape=(10000,)))\n",
    "model.add(layers.Dense(64,activation = 'relu'))\n",
    "model.add(layers.Dense(46,activation = 'softmax'))"
   ]
  },
  {
   "cell_type": "markdown",
   "metadata": {},
   "source": [
    "# Compiling The model "
   ]
  },
  {
   "cell_type": "code",
   "execution_count": 36,
   "metadata": {},
   "outputs": [],
   "source": [
    "model.compile(optimizer= 'rmsprop', loss = 'categorical_crossentropy', metrics = ['accuracy'])"
   ]
  },
  {
   "cell_type": "markdown",
   "metadata": {},
   "source": [
    "# Seprating The validation Data"
   ]
  },
  {
   "cell_type": "code",
   "execution_count": 44,
   "metadata": {},
   "outputs": [],
   "source": [
    "x_val = x_train[:1000]\n",
    "partial_x_train = x_train[1000:]\n",
    "\n",
    "y_val = one_hot_train_labels[:1000]\n",
    "partial_y_train = one_hot_train_labels[1000:]"
   ]
  },
  {
   "cell_type": "markdown",
   "metadata": {},
   "source": [
    "# Training The Model"
   ]
  },
  {
   "cell_type": "code",
   "execution_count": 45,
   "metadata": {},
   "outputs": [
    {
     "name": "stdout",
     "output_type": "stream",
     "text": [
      "Epoch 1/20\n",
      "16/16 [==============================] - 4s 171ms/step - loss: 3.1671 - accuracy: 0.4121 - val_loss: 1.7630 - val_accuracy: 0.6340\n",
      "Epoch 2/20\n",
      "16/16 [==============================] - 1s 65ms/step - loss: 1.5317 - accuracy: 0.6858 - val_loss: 1.2910 - val_accuracy: 0.7020\n",
      "Epoch 3/20\n",
      "16/16 [==============================] - 1s 59ms/step - loss: 1.0668 - accuracy: 0.7697 - val_loss: 1.1264 - val_accuracy: 0.7510\n",
      "Epoch 4/20\n",
      "16/16 [==============================] - 1s 57ms/step - loss: 0.8589 - accuracy: 0.8166 - val_loss: 1.0253 - val_accuracy: 0.7870\n",
      "Epoch 5/20\n",
      "16/16 [==============================] - 1s 61ms/step - loss: 0.6741 - accuracy: 0.8568 - val_loss: 0.9623 - val_accuracy: 0.8150\n",
      "Epoch 6/20\n",
      "16/16 [==============================] - 1s 71ms/step - loss: 0.5426 - accuracy: 0.8913 - val_loss: 0.9029 - val_accuracy: 0.8240\n",
      "Epoch 7/20\n",
      "16/16 [==============================] - 2s 132ms/step - loss: 0.4306 - accuracy: 0.9093 - val_loss: 0.8983 - val_accuracy: 0.8190\n",
      "Epoch 8/20\n",
      "16/16 [==============================] - 1s 61ms/step - loss: 0.3461 - accuracy: 0.9300 - val_loss: 0.8779 - val_accuracy: 0.8210\n",
      "Epoch 9/20\n",
      "16/16 [==============================] - 1s 60ms/step - loss: 0.2910 - accuracy: 0.9381 - val_loss: 0.9037 - val_accuracy: 0.8110\n",
      "Epoch 10/20\n",
      "16/16 [==============================] - 1s 71ms/step - loss: 0.2373 - accuracy: 0.9465 - val_loss: 0.9132 - val_accuracy: 0.8070\n",
      "Epoch 11/20\n",
      "16/16 [==============================] - 1s 68ms/step - loss: 0.2047 - accuracy: 0.9512 - val_loss: 0.9226 - val_accuracy: 0.8120\n",
      "Epoch 12/20\n",
      "16/16 [==============================] - 1s 67ms/step - loss: 0.1778 - accuracy: 0.9558 - val_loss: 0.9422 - val_accuracy: 0.8130\n",
      "Epoch 13/20\n",
      "16/16 [==============================] - 1s 69ms/step - loss: 0.1593 - accuracy: 0.9566 - val_loss: 0.9438 - val_accuracy: 0.8090\n",
      "Epoch 14/20\n",
      "16/16 [==============================] - 1s 80ms/step - loss: 0.1350 - accuracy: 0.9605 - val_loss: 1.0141 - val_accuracy: 0.8000\n",
      "Epoch 15/20\n",
      "16/16 [==============================] - 1s 68ms/step - loss: 0.1408 - accuracy: 0.9566 - val_loss: 1.0126 - val_accuracy: 0.8060\n",
      "Epoch 16/20\n",
      "16/16 [==============================] - 1s 65ms/step - loss: 0.1329 - accuracy: 0.9540 - val_loss: 1.0358 - val_accuracy: 0.8020\n",
      "Epoch 17/20\n",
      "16/16 [==============================] - 1s 61ms/step - loss: 0.1147 - accuracy: 0.9604 - val_loss: 1.0532 - val_accuracy: 0.8000\n",
      "Epoch 18/20\n",
      "16/16 [==============================] - 1s 63ms/step - loss: 0.1085 - accuracy: 0.9641 - val_loss: 1.0333 - val_accuracy: 0.8010\n",
      "Epoch 19/20\n",
      "16/16 [==============================] - 1s 60ms/step - loss: 0.1120 - accuracy: 0.9607 - val_loss: 1.0549 - val_accuracy: 0.8100\n",
      "Epoch 20/20\n",
      "16/16 [==============================] - 1s 61ms/step - loss: 0.1006 - accuracy: 0.9638 - val_loss: 1.0985 - val_accuracy: 0.8010\n"
     ]
    }
   ],
   "source": [
    "history = model.fit(partial_x_train, partial_y_train, epochs = 20, batch_size = 512, validation_data = (x_val,y_val))"
   ]
  },
  {
   "cell_type": "code",
   "execution_count": 46,
   "metadata": {},
   "outputs": [
    {
     "data": {
      "text/plain": [
       "{'loss': [2.6747870445251465,\n",
       "  1.4214516878128052,\n",
       "  1.0495994091033936,\n",
       "  0.8275419473648071,\n",
       "  0.6594718098640442,\n",
       "  0.5262319445610046,\n",
       "  0.42214328050613403,\n",
       "  0.3435012698173523,\n",
       "  0.28511881828308105,\n",
       "  0.24422168731689453,\n",
       "  0.21026432514190674,\n",
       "  0.1824886053800583,\n",
       "  0.16916397213935852,\n",
       "  0.15669722855091095,\n",
       "  0.13729141652584076,\n",
       "  0.13504520058631897,\n",
       "  0.12654465436935425,\n",
       "  0.122167207300663,\n",
       "  0.11654888838529587,\n",
       "  0.11432862281799316],\n",
       " 'accuracy': [0.5189175605773926,\n",
       "  0.7048358917236328,\n",
       "  0.7748684287071228,\n",
       "  0.8258581757545471,\n",
       "  0.8618140816688538,\n",
       "  0.891004741191864,\n",
       "  0.9113004207611084,\n",
       "  0.927837610244751,\n",
       "  0.9383612871170044,\n",
       "  0.943748414516449,\n",
       "  0.9476321935653687,\n",
       "  0.9525181651115417,\n",
       "  0.9531445503234863,\n",
       "  0.9533951282501221,\n",
       "  0.9545226693153381,\n",
       "  0.9543973803520203,\n",
       "  0.9564018845558167,\n",
       "  0.957028329372406,\n",
       "  0.9579052925109863,\n",
       "  0.9569030404090881],\n",
       " 'val_loss': [1.7630385160446167,\n",
       "  1.2910104990005493,\n",
       "  1.126394271850586,\n",
       "  1.0253033638000488,\n",
       "  0.9622921347618103,\n",
       "  0.9028823971748352,\n",
       "  0.8983357548713684,\n",
       "  0.8778983950614929,\n",
       "  0.90370774269104,\n",
       "  0.9131962656974792,\n",
       "  0.9225561022758484,\n",
       "  0.9422134160995483,\n",
       "  0.9437918663024902,\n",
       "  1.0140986442565918,\n",
       "  1.012581706047058,\n",
       "  1.0357880592346191,\n",
       "  1.0531806945800781,\n",
       "  1.0333164930343628,\n",
       "  1.054880976676941,\n",
       "  1.0985026359558105],\n",
       " 'val_accuracy': [0.6340000033378601,\n",
       "  0.7020000219345093,\n",
       "  0.7509999871253967,\n",
       "  0.7870000004768372,\n",
       "  0.8149999976158142,\n",
       "  0.8240000009536743,\n",
       "  0.8190000057220459,\n",
       "  0.8209999799728394,\n",
       "  0.8109999895095825,\n",
       "  0.8069999814033508,\n",
       "  0.8119999766349792,\n",
       "  0.8130000233650208,\n",
       "  0.8090000152587891,\n",
       "  0.800000011920929,\n",
       "  0.8059999942779541,\n",
       "  0.8019999861717224,\n",
       "  0.800000011920929,\n",
       "  0.8009999990463257,\n",
       "  0.8100000023841858,\n",
       "  0.8009999990463257]}"
      ]
     },
     "execution_count": 46,
     "metadata": {},
     "output_type": "execute_result"
    }
   ],
   "source": [
    "history.history"
   ]
  },
  {
   "cell_type": "markdown",
   "metadata": {},
   "source": [
    "#  Plotting the Training & Validation Loss"
   ]
  },
  {
   "cell_type": "code",
   "execution_count": 49,
   "metadata": {},
   "outputs": [
    {
     "data": {
      "image/png": "[encoded data removed]",
      "text/plain": [
       "<Figure size 432x288 with 1 Axes>"
      ]
     },
     "metadata": {
      "needs_background": "light"
     },
     "output_type": "display_data"
    }
   ],
   "source": [
    "import matplotlib.pyplot as plt\n",
    "loss= history.history['loss']\n",
    "validation_loss = history.history['val_loss']\n",
    "epochs = range(1, len(loss)+1)\n",
    "plt.plot(epochs, loss, 'bo', label = 'Training Loss')\n",
    "plt.plot(epochs, validation_loss, 'b', label = 'Validation_loss')\n",
    "plt.title('Training and Validation Loss')\n",
    "plt.xlabel('Epochs')\n",
    "plt.ylabel('Loss')\n",
    "plt.legend()\n",
    "plt.show()"
   ]
  },
  {
   "cell_type": "markdown",
   "metadata": {},
   "source": [
    "#  Plotting The Training and Validation Accuracy"
   ]
  },
  {
   "cell_type": "code",
   "execution_count": 51,
   "metadata": {},
   "outputs": [
    {
     "data": {
      "text/plain": [
       "dict_keys(['loss', 'accuracy', 'val_loss', 'val_accuracy'])"
      ]
     },
     "execution_count": 51,
     "metadata": {},
     "output_type": "execute_result"
    }
   ],
   "source": [
    "history.history.keys()"
   ]
  },
  {
   "cell_type": "code",
   "execution_count": 54,
   "metadata": {},
   "outputs": [
    {
     "data": {
      "image/png": "[encoded data removed]",
      "text/plain": [
       "<Figure size 432x288 with 1 Axes>"
      ]
     },
     "metadata": {
      "needs_background": "light"
     },
     "output_type": "display_data"
    }
   ],
   "source": [
    "plt.clf()\n",
    "accuracy = history.history['accuracy']\n",
    "validation_accuracy = history.history['val_accuracy']\n",
    "epochs = range(1, len(loss)+1)\n",
    "plt.plot(epochs, accuracy, 'bo', label = 'Training Accuracy')\n",
    "plt.plot(epochs, validation_accuracy, 'b', label = 'Validation Accuracy')\n",
    "plt.title('Training and validation Accuracy')\n",
    "plt.xlabel('Epochs')\n",
    "plt.ylabel('Accuracy')\n",
    "plt.legend()\n",
    "plt.show()"
   ]
  },
  {
   "cell_type": "markdown",
   "metadata": {},
   "source": [
    "# Retraining the model From Scratch"
   ]
  },
  {
   "cell_type": "code",
   "execution_count": 63,
   "metadata": {},
   "outputs": [
    {
     "name": "stdout",
     "output_type": "stream",
     "text": [
      "Epoch 1/9\n",
      "16/16 [==============================] - 3s 116ms/step - loss: 3.1484 - accuracy: 0.4051 - val_loss: 1.7478 - val_accuracy: 0.6380\n",
      "Epoch 2/9\n",
      "16/16 [==============================] - 1s 65ms/step - loss: 1.5128 - accuracy: 0.6920 - val_loss: 1.3067 - val_accuracy: 0.6950\n",
      "Epoch 3/9\n",
      "16/16 [==============================] - 1s 68ms/step - loss: 1.0737 - accuracy: 0.7705 - val_loss: 1.1458 - val_accuracy: 0.7310\n",
      "Epoch 4/9\n",
      "16/16 [==============================] - 1s 60ms/step - loss: 0.8609 - accuracy: 0.8187 - val_loss: 1.0208 - val_accuracy: 0.7770\n",
      "Epoch 5/9\n",
      "16/16 [==============================] - 1s 56ms/step - loss: 0.6795 - accuracy: 0.8588 - val_loss: 0.9678 - val_accuracy: 0.7840\n",
      "Epoch 6/9\n",
      "16/16 [==============================] - 1s 92ms/step - loss: 0.5323 - accuracy: 0.8946 - val_loss: 0.9165 - val_accuracy: 0.8070\n",
      "Epoch 7/9\n",
      "16/16 [==============================] - 1s 65ms/step - loss: 0.4215 - accuracy: 0.9127 - val_loss: 0.8873 - val_accuracy: 0.8090\n",
      "Epoch 8/9\n",
      "16/16 [==============================] - 1s 51ms/step - loss: 0.3243 - accuracy: 0.9332 - val_loss: 0.8925 - val_accuracy: 0.8120\n",
      "Epoch 9/9\n",
      "16/16 [==============================] - 1s 54ms/step - loss: 0.2713 - accuracy: 0.9386 - val_loss: 0.8875 - val_accuracy: 0.8180\n"
     ]
    },
    {
     "data": {
      "text/plain": [
       "<tensorflow.python.keras.callbacks.History at 0x20279293a88>"
      ]
     },
     "execution_count": 63,
     "metadata": {},
     "output_type": "execute_result"
    }
   ],
   "source": [
    "model = models.Sequential()\n",
    "model.add(layers.Dense(64, activation='relu', input_shape=(10000,)))\n",
    "model.add(layers.Dense(64, activation = 'relu'))\n",
    "model.add(layers.Dense(46, activation= 'softmax'))\n",
    "\n",
    "model.compile(optimizer = 'rmsprop', loss = 'categorical_crossentropy', metrics = ['accuracy'])\n",
    "\n",
    "model.fit(partial_x_train, partial_y_train, epochs = 9, batch_size = 512, validation_data = (x_val, y_val))"
   ]
  },
  {
   "cell_type": "code",
   "execution_count": 65,
   "metadata": {},
   "outputs": [
    {
     "name": "stdout",
     "output_type": "stream",
     "text": [
      "71/71 [==============================] - 0s 3ms/step - loss: 0.9877 - accuracy: 0.7876\n"
     ]
    },
    {
     "data": {
      "text/plain": [
       "[0.9876559972763062, 0.7876224517822266]"
      ]
     },
     "execution_count": 65,
     "metadata": {},
     "output_type": "execute_result"
    }
   ],
   "source": [
    "results = model.evaluate(x_test, one_hot_test_labels)\n",
    "results"
   ]
  },
  {
   "cell_type": "code",
   "execution_count": 86,
   "metadata": {},
   "outputs": [
    {
     "name": "stdout",
     "output_type": "stream",
     "text": [
      "test labels: [ 3 10  1 ...  3  3 24]\n",
      "length of test labels: 2246\n",
      "test_labels after copying are: [ 3 10  1 ...  3  3 24]\n",
      "Length of test labels after copying: 2246\n",
      "[False False  True ...  True  True False]\n",
      "length of hits_array: 2246\n",
      "Sum of hits_array: 423\n"
     ]
    },
    {
     "data": {
      "text/plain": [
       "0.18833481745325023"
      ]
     },
     "execution_count": 86,
     "metadata": {},
     "output_type": "execute_result"
    }
   ],
   "source": [
    "print(\"test labels:\", test_labels)\n",
    "print(\"length of test labels:\",len(test_labels))\n",
    "import copy\n",
    "test_labels_copy = copy.copy(test_labels)\n",
    "print(\"test_labels after copying are:\",test_labels_copy)\n",
    "print(\"Length of test labels after copying:\",len(test_labels_copy))\n",
    "np.random.shuffle(test_labels_copy) # Shuffeling the labels randomly\n",
    "hits_array = np.array(test_labels) == np.array(test_labels_copy)\n",
    "print(hits_array)  \n",
    "print(\"length of hits_array:\",len(hits_array))\n",
    "print(\"Sum of hits_array:\",np.sum(hits_array))\n",
    "float(np.sum(hits_array) / len(test_labels))"
   ]
  },
  {
   "cell_type": "markdown",
   "metadata": {},
   "source": [
    "# Generating Predictions for new Data"
   ]
  },
  {
   "cell_type": "code",
   "execution_count": 112,
   "metadata": {},
   "outputs": [
    {
     "name": "stdout",
     "output_type": "stream",
     "text": [
      "length of predictions: 2246\n"
     ]
    },
    {
     "data": {
      "text/plain": [
       "3"
      ]
     },
     "execution_count": 112,
     "metadata": {},
     "output_type": "execute_result"
    }
   ],
   "source": [
    "predictions = model.predict(x_test)\n",
    "#print(predictions)\n",
    "#print(predictions.shape)\n",
    "print(\"length of predictions:\",len(predictions))\n",
    "#print(len(predictions[0]))\n",
    "#print(predictions[0].sum())\n",
    "#print(predictions[0].shape)\n",
    "np.argmax(predictions[0])"
   ]
  },
  {
   "cell_type": "code",
   "execution_count": null,
   "metadata": {},
   "outputs": [],
   "source": []
  }
 ],
 "metadata": {
  "kernelspec": {
   "display_name": "Python 3",
   "language": "python",
   "name": "python3"
  },
  "language_info": {
   "codemirror_mode": {
    "name": "ipython",
    "version": 3
   },
   "file_extension": ".py",
   "mimetype": "text/x-python",
   "name": "python",
   "nbconvert_exporter": "python",
   "pygments_lexer": "ipython3",
   "version": "3.7.6"
  }
 },
 "nbformat": 4,
 "nbformat_minor": 4
}
